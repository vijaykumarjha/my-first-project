{
 "cells": [
  {
   "cell_type": "markdown",
   "metadata": {},
   "source": [
    "# Profitable App Profiles for the App Store and Google Play Markets\n",
    "Our aim in this project is to find mobile app profiles that are profitable for the App Store and Google Play markets. We're working as data analysts for a company that builds Android and IOS mobile apps, and our job is to enable our team of developers to make data-driven decisions with respect to the kind of apps they build.\n",
    "\n",
    "At our company, we only build apps that are free to download and install, and our main source of revenue consists of in-app ads. This means that our revenue for any given app is mostly influenced by the number of users that use our app. Our goal for this project is to analyze data to help our developers understand what kinds of apps are likely to attract more users.\n",
    "\n",
    "\n",
    "## Opening and Exploring the Data\n",
    "\n",
    "As of September 2018, there were approximately 2 millions iOS apps avaible on the App Store, and 2.1 million Android apps on Google Play\n",
    "\n",
    "Dataset has been taken from internate.\n"
   ]
  },
  {
   "cell_type": "code",
   "execution_count": 2,
   "metadata": {},
   "outputs": [],
   "source": [
    "opened_file = open(r\"C:\\Users\\VIJAY KR JHA\\Desktop\\python\\AppleStore.csv\", encoding = \"utf8\")\n",
    "from csv import reader\n",
    "read_file = reader(opened_file)\n",
    "ios = list(read_file)\n",
    "ios = ios[1:]\n",
    "opened_file_2 = open(r\"C:\\Users\\VIJAY KR JHA\\Desktop\\python\\googleplaystore.csv\", encoding = \"utf8\")\n",
    "read_file_2 = reader(opened_file_2)\n",
    "android = list(read_file_2)\n",
    "android = android[1:]\n"
   ]
  },
  {
   "cell_type": "code",
   "execution_count": 3,
   "metadata": {},
   "outputs": [],
   "source": [
    "def explore_data(dataset, start, end, no_of_rows_or_column = False ):\n",
    "    dataset_slice = dataset[start:end]\n",
    "    for row in dataset_slice:\n",
    "        print(row)\n",
    "        print(\"\\n\")\n",
    "        \n",
    "    if no_of_rows_or_column:\n",
    "        print(\"No of rows\", len(dataset))\n",
    "        print(\"No of column\", len(dataset[0]))\n",
    "        "
   ]
  },
  {
   "cell_type": "code",
   "execution_count": 4,
   "metadata": {},
   "outputs": [
    {
     "name": "stdout",
     "output_type": "stream",
     "text": [
      "['284882215', 'Facebook', '389879808', 'USD', '0.0', '2974676', '212', '3.5', '3.5', '95.0', '4+', 'Social Networking', '37', '1', '29', '1']\n",
      "\n",
      "\n",
      "['389801252', 'Instagram', '113954816', 'USD', '0.0', '2161558', '1289', '4.5', '4.0', '10.23', '12+', 'Photo & Video', '37', '0', '29', '1']\n",
      "\n",
      "\n",
      "['529479190', 'Clash of Clans', '116476928', 'USD', '0.0', '2130805', '579', '4.5', '4.5', '9.24.12', '9+', 'Games', '38', '5', '18', '1']\n",
      "\n",
      "\n",
      "['420009108', 'Temple Run', '65921024', 'USD', '0.0', '1724546', '3842', '4.5', '4.0', '1.6.2', '9+', 'Games', '40', '5', '1', '1']\n",
      "\n",
      "\n",
      "['284035177', 'Pandora - Music & Radio', '130242560', 'USD', '0.0', '1126879', '3594', '4.0', '4.5', '8.4.1', '12+', 'Music', '37', '4', '1', '1']\n",
      "\n",
      "\n",
      "['429047995', 'Pinterest', '74778624', 'USD', '0.0', '1061624', '1814', '4.5', '4.0', '6.26', '12+', 'Social Networking', '37', '5', '27', '1']\n",
      "\n",
      "\n",
      "['282935706', 'Bible', '92774400', 'USD', '0.0', '985920', '5320', '4.5', '5.0', '7.5.1', '4+', 'Reference', '37', '5', '45', '1']\n",
      "\n",
      "\n",
      "['553834731', 'Candy Crush Saga', '222846976', 'USD', '0.0', '961794', '2453', '4.5', '4.5', '1.101.0', '4+', 'Games', '43', '5', '24', '1']\n",
      "\n",
      "\n",
      "['324684580', 'Spotify Music', '132510720', 'USD', '0.0', '878563', '8253', '4.5', '4.5', '8.4.3', '12+', 'Music', '37', '5', '18', '1']\n",
      "\n",
      "\n",
      "['343200656', 'Angry Birds', '175966208', 'USD', '0.0', '824451', '107', '4.5', '3.0', '7.4.0', '4+', 'Games', '38', '0', '10', '1']\n",
      "\n",
      "\n",
      "['Photo Editor & Candy Camera & Grid & ScrapBook', 'ART_AND_DESIGN', '4.1', '159', '19M', '10,000+', 'Free', '0', 'Everyone', 'Art & Design', 'January 7, 2018', '1.0.0', '4.0.3 and up']\n",
      "\n",
      "\n",
      "['Coloring book moana', 'ART_AND_DESIGN', '3.9', '967', '14M', '500,000+', 'Free', '0', 'Everyone', 'Art & Design;Pretend Play', 'January 15, 2018', '2.0.0', '4.0.3 and up']\n",
      "\n",
      "\n",
      "['U Launcher Lite – FREE Live Cool Themes, Hide Apps', 'ART_AND_DESIGN', '4.7', '87510', '8.7M', '5,000,000+', 'Free', '0', 'Everyone', 'Art & Design', 'August 1, 2018', '1.2.4', '4.0.3 and up']\n",
      "\n",
      "\n",
      "['Sketch - Draw & Paint', 'ART_AND_DESIGN', '4.5', '215644', '25M', '50,000,000+', 'Free', '0', 'Teen', 'Art & Design', 'June 8, 2018', 'Varies with device', '4.2 and up']\n",
      "\n",
      "\n",
      "['Pixel Draw - Number Art Coloring Book', 'ART_AND_DESIGN', '4.3', '967', '2.8M', '100,000+', 'Free', '0', 'Everyone', 'Art & Design;Creativity', 'June 20, 2018', '1.1', '4.4 and up']\n",
      "\n",
      "\n",
      "['Paper flowers instructions', 'ART_AND_DESIGN', '4.4', '167', '5.6M', '50,000+', 'Free', '0', 'Everyone', 'Art & Design', 'March 26, 2017', '1.0', '2.3 and up']\n",
      "\n",
      "\n",
      "['Smoke Effect Photo Maker - Smoke Editor', 'ART_AND_DESIGN', '3.8', '178', '19M', '50,000+', 'Free', '0', 'Everyone', 'Art & Design', 'April 26, 2018', '1.1', '4.0.3 and up']\n",
      "\n",
      "\n",
      "['Infinite Painter', 'ART_AND_DESIGN', '4.1', '36815', '29M', '1,000,000+', 'Free', '0', 'Everyone', 'Art & Design', 'June 14, 2018', '6.1.61.1', '4.2 and up']\n",
      "\n",
      "\n",
      "['Garden Coloring Book', 'ART_AND_DESIGN', '4.4', '13791', '33M', '1,000,000+', 'Free', '0', 'Everyone', 'Art & Design', 'September 20, 2017', '2.9.2', '3.0 and up']\n",
      "\n",
      "\n",
      "['Kids Paint Free - Drawing Fun', 'ART_AND_DESIGN', '4.7', '121', '3.1M', '10,000+', 'Free', '0', 'Everyone', 'Art & Design;Creativity', 'July 3, 2018', '2.8', '4.0.3 and up']\n",
      "\n",
      "\n",
      "None\n",
      "None\n"
     ]
    }
   ],
   "source": [
    "explore_apps_data = explore_data(ios, 0, 10)\n",
    "explore_googs_data = explore_data(android, 0, 10)\n",
    "print(explore_apps_data)\n",
    "print(explore_googs_data)"
   ]
  },
  {
   "cell_type": "markdown",
   "metadata": {},
   "source": [
    "## Four duplicate Instagram App"
   ]
  },
  {
   "cell_type": "code",
   "execution_count": 5,
   "metadata": {},
   "outputs": [
    {
     "name": "stdout",
     "output_type": "stream",
     "text": [
      "['Instagram', 'SOCIAL', '4.5', '66577313', 'Varies with device', '1,000,000,000+', 'Free', '0', 'Teen', 'Social', 'July 31, 2018', 'Varies with device', 'Varies with device']\n",
      "['Instagram', 'SOCIAL', '4.5', '66577446', 'Varies with device', '1,000,000,000+', 'Free', '0', 'Teen', 'Social', 'July 31, 2018', 'Varies with device', 'Varies with device']\n",
      "['Instagram', 'SOCIAL', '4.5', '66577313', 'Varies with device', '1,000,000,000+', 'Free', '0', 'Teen', 'Social', 'July 31, 2018', 'Varies with device', 'Varies with device']\n",
      "['Instagram', 'SOCIAL', '4.5', '66509917', 'Varies with device', '1,000,000,000+', 'Free', '0', 'Teen', 'Social', 'July 31, 2018', 'Varies with device', 'Varies with device']\n"
     ]
    }
   ],
   "source": [
    "for app in android:\n",
    "    name = app[0]\n",
    "    if name == \"Instagram\" :\n",
    "        print(app)"
   ]
  },
  {
   "cell_type": "markdown",
   "metadata": {},
   "source": [
    "## There are about 1181 cases where an app occurs more than once"
   ]
  },
  {
   "cell_type": "code",
   "execution_count": 6,
   "metadata": {},
   "outputs": [
    {
     "name": "stdout",
     "output_type": "stream",
     "text": [
      "No of Duplicate Apps 1181\n",
      "\n",
      "\n",
      "Examples of Duplicate Apps ['Quick PDF Scanner + OCR FREE', 'Box', 'Google My Business', 'ZOOM Cloud Meetings', 'join.me - Simple Meetings', 'Box', 'Zenefits', 'Google Ads', 'Google My Business', 'Slack', 'FreshBooks Classic', 'Insightly CRM', 'QuickBooks Accounting: Invoicing & Expenses', 'HipChat - Chat Built for Teams', 'Xero Accounting Software']\n"
     ]
    }
   ],
   "source": [
    "Duplicate_apps =[]\n",
    "Unique_apps = []\n",
    "for app in android:\n",
    "    name = app[0]\n",
    "    if name in Unique_apps:\n",
    "        Duplicate_apps.append(name)\n",
    "    else:\n",
    "        Unique_apps.append(name)\n",
    "        \n",
    "print(\"No of Duplicate Apps\", len(Duplicate_apps))\n",
    "print(\"\\n\")\n",
    "\n",
    "print(\"Examples of Duplicate Apps\", Duplicate_apps[:15])"
   ]
  },
  {
   "cell_type": "markdown",
   "metadata": {},
   "source": [
    "We don't want to count certain apps more than once when we analyze the data, so we need to remove duplicate entries and keep only one entry per app. One thing we could do is remove the duplicate entry randomly but we could probably find the better way.\n",
    "we can see in the Instagram App that main difference happens in the fourth position. The different number show the data was collected at different time. The higher the number of reviews the more recent the data should be. Rather than removing  duplicates randomly we'll only keep the row with the highest number of reviews and remove the other entry of given app."
   ]
  },
  {
   "cell_type": "code",
   "execution_count": 7,
   "metadata": {},
   "outputs": [
    {
     "name": "stdout",
     "output_type": "stream",
     "text": [
      "9660\n"
     ]
    }
   ],
   "source": [
    "reviews_max = {}\n",
    "for app in android:\n",
    "    name = app[0]\n",
    "    n_reviews = app[3]\n",
    "    if name in reviews_max and reviews_max[name] < n_reviews:\n",
    "        reviews_max[name] = n_reviews\n",
    "    elif name not in reviews_max:\n",
    "        reviews_max[name] = n_reviews\n",
    "        \n",
    "length = len(reviews_max)\n",
    "print(length)\n",
    "        "
   ]
  },
  {
   "cell_type": "code",
   "execution_count": 8,
   "metadata": {},
   "outputs": [],
   "source": [
    "android_clean = []\n",
    "already_added = []\n",
    "for app in android:\n",
    "    name = app[0]\n",
    "    n_reviews = app[3]\n",
    "    if (reviews_max[name] == n_reviews) and (name not in already_added):\n",
    "        android_clean.append(app)\n",
    "        already_added.append(name)\n",
    "    "
   ]
  },
  {
   "cell_type": "code",
   "execution_count": 9,
   "metadata": {},
   "outputs": [
    {
     "name": "stdout",
     "output_type": "stream",
     "text": [
      "['Photo Editor & Candy Camera & Grid & ScrapBook', 'ART_AND_DESIGN', '4.1', '159', '19M', '10,000+', 'Free', '0', 'Everyone', 'Art & Design', 'January 7, 2018', '1.0.0', '4.0.3 and up']\n",
      "\n",
      "\n",
      "['U Launcher Lite – FREE Live Cool Themes, Hide Apps', 'ART_AND_DESIGN', '4.7', '87510', '8.7M', '5,000,000+', 'Free', '0', 'Everyone', 'Art & Design', 'August 1, 2018', '1.2.4', '4.0.3 and up']\n",
      "\n",
      "\n",
      "['Sketch - Draw & Paint', 'ART_AND_DESIGN', '4.5', '215644', '25M', '50,000,000+', 'Free', '0', 'Teen', 'Art & Design', 'June 8, 2018', 'Varies with device', '4.2 and up']\n",
      "\n",
      "\n",
      "No of rows 9660\n",
      "No of column 13\n"
     ]
    }
   ],
   "source": [
    "explore_data(android_clean, 0, 3, True)"
   ]
  },
  {
   "cell_type": "markdown",
   "metadata": {},
   "source": [
    "# Removing Non-English Apps\n",
    "## Part one\n",
    "we'll notice the names of some of the apps suggest they are not directed toward an English-Speaking audience. Below we see a couple of examples from both data sets."
   ]
  },
  {
   "cell_type": "code",
   "execution_count": 10,
   "metadata": {},
   "outputs": [
    {
     "name": "stdout",
     "output_type": "stream",
     "text": [
      "爱奇艺PPS -《欢乐颂2》电视剧热播\n",
      "【脱出ゲーム】絶対に最後までプレイしないで 〜謎解き＆ブロックパズル〜\n",
      "\n",
      "\n",
      "Wowkwis aq Ka'qaquj\n",
      "PHARMAGUIDE (DZ)\n"
     ]
    }
   ],
   "source": [
    "print(ios[813][1])\n",
    "print(ios[6731][1])\n",
    "print(\"\\n\")\n",
    "print(android_clean[4412][0])\n",
    "print(android_clean[7940][0])"
   ]
  },
  {
   "cell_type": "code",
   "execution_count": 11,
   "metadata": {},
   "outputs": [
    {
     "name": "stdout",
     "output_type": "stream",
     "text": [
      "86\n"
     ]
    }
   ],
   "source": [
    "print (ord('V'))"
   ]
  },
  {
   "cell_type": "code",
   "execution_count": 12,
   "metadata": {},
   "outputs": [
    {
     "name": "stdout",
     "output_type": "stream",
     "text": [
      "105\n"
     ]
    }
   ],
   "source": [
    "print(ord(\"i\"))"
   ]
  },
  {
   "cell_type": "code",
   "execution_count": 13,
   "metadata": {},
   "outputs": [
    {
     "name": "stdout",
     "output_type": "stream",
     "text": [
      "106\n"
     ]
    }
   ],
   "source": [
    "print(ord(\"j\"))"
   ]
  },
  {
   "cell_type": "code",
   "execution_count": 14,
   "metadata": {},
   "outputs": [
    {
     "name": "stdout",
     "output_type": "stream",
     "text": [
      "True\n"
     ]
    }
   ],
   "source": [
    "def is_english(string):\n",
    "    for each in string:\n",
    "        if ord(each) > 127:\n",
    "            return False\n",
    "        \n",
    "    return True\n",
    "inst = is_english(\"Instagram\")\n",
    "print(inst)\n",
    "            "
   ]
  },
  {
   "cell_type": "markdown",
   "metadata": {},
   "source": [
    "## part two\n",
    "To minimize the impact of data loss, we'll only remove an app if its name has more than three non-ASCII characters:"
   ]
  },
  {
   "cell_type": "code",
   "execution_count": 15,
   "metadata": {},
   "outputs": [
    {
     "name": "stdout",
     "output_type": "stream",
     "text": [
      "True\n",
      "True\n"
     ]
    }
   ],
   "source": [
    "def is_english(string):\n",
    "    non_ascii = 0\n",
    "    \n",
    "    for character in string:\n",
    "        if ord(character) > 127:\n",
    "            non_ascii += 1\n",
    "            \n",
    "    if non_ascii >3:\n",
    "        return False\n",
    "    else:\n",
    "        return True\n",
    "    \n",
    "print(is_english(\"Docs To Go™ Free Office Suite'\"))\n",
    "print(is_english(\"Instachat 😜\"))"
   ]
  },
  {
   "cell_type": "code",
   "execution_count": 16,
   "metadata": {},
   "outputs": [
    {
     "name": "stdout",
     "output_type": "stream",
     "text": [
      "['Photo Editor & Candy Camera & Grid & ScrapBook', 'ART_AND_DESIGN', '4.1', '159', '19M', '10,000+', 'Free', '0', 'Everyone', 'Art & Design', 'January 7, 2018', '1.0.0', '4.0.3 and up']\n",
      "\n",
      "\n",
      "['U Launcher Lite – FREE Live Cool Themes, Hide Apps', 'ART_AND_DESIGN', '4.7', '87510', '8.7M', '5,000,000+', 'Free', '0', 'Everyone', 'Art & Design', 'August 1, 2018', '1.2.4', '4.0.3 and up']\n",
      "\n",
      "\n",
      "['Sketch - Draw & Paint', 'ART_AND_DESIGN', '4.5', '215644', '25M', '50,000,000+', 'Free', '0', 'Teen', 'Art & Design', 'June 8, 2018', 'Varies with device', '4.2 and up']\n",
      "\n",
      "\n",
      "No of rows 9615\n",
      "No of column 13\n",
      "\n",
      "\n",
      "['284882215', 'Facebook', '389879808', 'USD', '0.0', '2974676', '212', '3.5', '3.5', '95.0', '4+', 'Social Networking', '37', '1', '29', '1']\n",
      "\n",
      "\n",
      "['389801252', 'Instagram', '113954816', 'USD', '0.0', '2161558', '1289', '4.5', '4.0', '10.23', '12+', 'Photo & Video', '37', '0', '29', '1']\n",
      "\n",
      "\n",
      "['529479190', 'Clash of Clans', '116476928', 'USD', '0.0', '2130805', '579', '4.5', '4.5', '9.24.12', '9+', 'Games', '38', '5', '18', '1']\n",
      "\n",
      "\n",
      "No of rows 6183\n",
      "No of column 16\n"
     ]
    }
   ],
   "source": [
    "android_english = []\n",
    "ios_english = []\n",
    "\n",
    "for app in android_clean:\n",
    "    name = app[0]\n",
    "    if is_english(name):\n",
    "        android_english.append(app)\n",
    "        \n",
    "for app in ios:\n",
    "    name = app[1]\n",
    "    if is_english(name):\n",
    "        ios_english.append(app)\n",
    "        \n",
    "        \n",
    "explore_data(android_english, 0, 3, True)\n",
    "print(\"\\n\")\n",
    "explore_data(ios_english, 0, 3, True)"
   ]
  },
  {
   "cell_type": "markdown",
   "metadata": {},
   "source": [
    "## Isolating the Free Apps \n",
    "we only build apps which are free. The main source of revenue is the Ads."
   ]
  },
  {
   "cell_type": "code",
   "execution_count": 17,
   "metadata": {},
   "outputs": [
    {
     "name": "stdout",
     "output_type": "stream",
     "text": [
      "[['Photo Editor & Candy Camera & Grid & ScrapBook', 'ART_AND_DESIGN', '4.1', '159', '19M', '10,000+', 'Free', '0', 'Everyone', 'Art & Design', 'January 7, 2018', '1.0.0', '4.0.3 and up'], ['U Launcher Lite – FREE Live Cool Themes, Hide Apps', 'ART_AND_DESIGN', '4.7', '87510', '8.7M', '5,000,000+', 'Free', '0', 'Everyone', 'Art & Design', 'August 1, 2018', '1.2.4', '4.0.3 and up'], ['Sketch - Draw & Paint', 'ART_AND_DESIGN', '4.5', '215644', '25M', '50,000,000+', 'Free', '0', 'Teen', 'Art & Design', 'June 8, 2018', 'Varies with device', '4.2 and up']]\n",
      "[['284882215', 'Facebook', '389879808', 'USD', '0.0', '2974676', '212', '3.5', '3.5', '95.0', '4+', 'Social Networking', '37', '1', '29', '1'], ['389801252', 'Instagram', '113954816', 'USD', '0.0', '2161558', '1289', '4.5', '4.0', '10.23', '12+', 'Photo & Video', '37', '0', '29', '1'], ['529479190', 'Clash of Clans', '116476928', 'USD', '0.0', '2130805', '579', '4.5', '4.5', '9.24.12', '9+', 'Games', '38', '5', '18', '1']]\n",
      "8862\n",
      "3222\n"
     ]
    }
   ],
   "source": [
    "android_final = []\n",
    "ios_final = []\n",
    "\n",
    "for each in android_english:\n",
    "    price = each[7]\n",
    "    if price == \"0\":\n",
    "        android_final.append(each)\n",
    "        \n",
    "for each in ios_english:\n",
    "    price = each[4]\n",
    "    if price == \"0.0\":\n",
    "        ios_final.append(each)\n",
    "        \n",
    "print(android_final[:3])\n",
    "print(ios_final[:3])\n",
    "print(len(android_final))\n",
    "print(len(ios_final))\n"
   ]
  },
  {
   "cell_type": "code",
   "execution_count": 18,
   "metadata": {},
   "outputs": [],
   "source": [
    "def freq_table(dataset, index, header = True):\n",
    "    frequency = {}\n",
    "    total = 0\n",
    "    if header == True:\n",
    "        for row in dataset[1:]:\n",
    "            total += 1\n",
    "            column = row[index]\n",
    "            if column in frequency:\n",
    "                frequency[column] += 1\n",
    "            else:\n",
    "                frequency[column] = 1\n",
    "        table_percentages = {}\n",
    "        for key in frequency:\n",
    "            percentage = (frequency[key] / total)* 100\n",
    "            table_percentages[key] = percentage\n",
    "            \n",
    "        return table_percentages\n",
    "    else:\n",
    "        for row in dataset:\n",
    "            total += 1\n",
    "            column = row[index]\n",
    "            if column in frequency:\n",
    "                frequency[column] += 1\n",
    "            else:\n",
    "                frequency[column] = 1\n",
    "        table_percentages = {}\n",
    "        for key in frequency:\n",
    "            percentage = (frequency[key] / total)* 100\n",
    "            table_percentages[key] = percentage\n",
    "            \n",
    "        return table_percentages\n",
    "        \n",
    "        \n",
    "def display_table(dataset, index):\n",
    "    table = freq_table(dataset, index)\n",
    "    table_display = []\n",
    "    for key in table:\n",
    "        key_val_as_tuple = (table[key], key)\n",
    "        table_display.append(key_val_as_tuple)\n",
    "        \n",
    "    table_sorted = sorted(table_display, reverse = True)\n",
    "    \n",
    "    for entry in table_sorted:\n",
    "        print(entry[1], \":\", entry[0])\n",
    "    \n",
    "        \n",
    "        "
   ]
  },
  {
   "cell_type": "code",
   "execution_count": 19,
   "metadata": {},
   "outputs": [
    {
     "name": "stdout",
     "output_type": "stream",
     "text": [
      "{'Art & Design': 0.598059128864816, 'Art & Design;Creativity': 0.06770480704129993, 'Auto & Vehicles': 0.9252990295644324, 'Beauty': 0.598059128864816, 'Books & Reference': 2.143985556307831, 'Business': 4.5926427443015125, 'Comics': 0.6093432633716994, 'Comics;Creativity': 0.011284134506883321, 'Communication': 3.238546603475513, 'Dating': 1.8618821936357481, 'Education': 5.348679756262695, 'Education;Creativity': 0.045136538027533285, 'Education;Education': 0.3385240352064997, 'Education;Pretend Play': 0.056420672534416606, 'Education;Brain Games': 0.033852403520649964, 'Entertainment': 6.070864364703228, 'Entertainment;Brain Games': 0.07898894154818326, 'Entertainment;Creativity': 0.033852403520649964, 'Entertainment;Music & Video': 0.16926201760324985, 'Events': 0.7109004739336493, 'Finance': 3.7011961182577298, 'Food & Drink': 1.2412547957571656, 'Health & Fitness': 3.080568720379147, 'House & Home': 0.8237418190024826, 'Libraries & Demo': 0.9365831640713158, 'Lifestyle': 3.8930264048747465, 'Lifestyle;Pretend Play': 0.011284134506883321, 'Arcade': 1.8505980591288649, 'Puzzle': 1.128413450688332, 'Racing': 0.9930038366057323, 'Sports': 3.4642292936131795, 'Casual': 1.7490408485669149, 'Simulation': 2.0424283457458814, 'Adventure': 0.6770480704129994, 'Trivia': 0.41751297675468296, 'Action': 3.1031369893929135, 'Word': 0.2595350936583164, 'Role Playing': 0.9365831640713158, 'Strategy': 0.9140148950575491, 'Board': 0.3723764387271496, 'Card': 0.4400812457684496, 'Music': 0.2031144211238998, 'Action;Action & Adventure': 0.1015572105619499, 'Casual;Brain Games': 0.13540961408259986, 'Educational;Creativity': 0.033852403520649964, 'Puzzle;Brain Games': 0.18054615211013314, 'Educational;Education': 0.3949447077409162, 'Card;Brain Games': 0.011284134506883321, 'Casual;Pretend Play': 0.23696682464454977, 'Educational;Brain Games': 0.06770480704129993, 'Art & Design;Pretend Play': 0.011284134506883321, 'Educational;Pretend Play': 0.09027307605506657, 'Entertainment;Education': 0.011284134506883321, 'Casual;Education': 0.022568269013766643, 'Casual;Creativity': 0.06770480704129993, 'Casual;Action & Adventure': 0.13540961408259986, 'Music;Music & Video': 0.022568269013766643, 'Arcade;Pretend Play': 0.011284134506883321, 'Adventure;Action & Adventure': 0.033852403520649964, 'Role Playing;Action & Adventure': 0.033852403520649964, 'Simulation;Pretend Play': 0.022568269013766643, 'Puzzle;Creativity': 0.022568269013766643, 'Simulation;Action & Adventure': 0.07898894154818326, 'Racing;Action & Adventure': 0.16926201760324985, 'Sports;Action & Adventure': 0.022568269013766643, 'Educational;Action & Adventure': 0.033852403520649964, 'Arcade;Action & Adventure': 0.12412547957571654, 'Entertainment;Action & Adventure': 0.033852403520649964, 'Art & Design;Action & Adventure': 0.011284134506883321, 'Puzzle;Action & Adventure': 0.033852403520649964, 'Education;Action & Adventure': 0.033852403520649964, 'Strategy;Action & Adventure': 0.011284134506883321, 'Music & Audio;Music & Video': 0.011284134506883321, 'Health & Fitness;Education': 0.011284134506883321, 'Board;Brain Games': 0.09027307605506657, 'Board;Action & Adventure': 0.022568269013766643, 'Casual;Music & Video': 0.011284134506883321, 'Education;Music & Video': 0.033852403520649964, 'Role Playing;Pretend Play': 0.045136538027533285, 'Entertainment;Pretend Play': 0.022568269013766643, 'Medical': 3.5206499661475967, 'Social': 2.663055743624464, 'Shopping': 2.2455427668697814, 'Photography': 2.945159106296547, 'Travel & Local': 2.324531708417964, 'Travel & Local;Action & Adventure': 0.011284134506883321, 'Tools': 8.440532611148726, 'Tools;Education': 0.011284134506883321, 'Personalization': 3.3175355450236967, 'Productivity': 3.8930264048747465, 'Parenting': 0.49650191830286616, 'Parenting;Music & Video': 0.06770480704129993, 'Parenting;Education': 0.07898894154818326, 'Parenting;Brain Games': 0.011284134506883321, 'Weather': 0.8011735499887158, 'Video Players & Editors': 1.7716091175806816, 'Video Players & Editors;Music & Video': 0.022568269013766643, 'Video Players & Editors;Creativity': 0.011284134506883321, 'News & Magazines': 2.798465357707064, 'Maps & Navigation': 1.399232678853532, 'Health & Fitness;Action & Adventure': 0.011284134506883321, 'Educational': 0.3723764387271496, 'Casino': 0.4287971112615662, 'Trivia;Education': 0.011284134506883321, 'Lifestyle;Education': 0.011284134506883321, 'Card;Action & Adventure': 0.011284134506883321, 'Books & Reference;Education': 0.011284134506883321, 'Simulation;Education': 0.011284134506883321, 'Puzzle;Education': 0.011284134506883321, 'Adventure;Education': 0.011284134506883321, 'Role Playing;Brain Games': 0.011284134506883321, 'Strategy;Education': 0.011284134506883321, 'Racing;Pretend Play': 0.011284134506883321, 'Communication;Creativity': 0.011284134506883321, 'Strategy;Creativity': 0.011284134506883321}\n",
      "Tools : 8.441485159688522\n",
      "Entertainment : 6.071549486513937\n",
      "Education : 5.349283376594064\n",
      "Business : 4.593161042771697\n",
      "Productivity : 3.8934657487868187\n",
      "Lifestyle : 3.8934657487868187\n",
      "Finance : 3.7016138133393524\n",
      "Medical : 3.521047285859384\n",
      "Sports : 3.464620246021894\n",
      "Personalization : 3.317909942444419\n",
      "Communication : 3.2389120866719328\n",
      "Action : 3.103487191061957\n",
      "Health & Fitness : 3.080916375126961\n",
      "Photography : 2.9454914795169844\n",
      "News & Magazines : 2.7987811759395105\n",
      "Social : 2.663356280329534\n",
      "Travel & Local : 2.3247940413045933\n",
      "Shopping : 2.245796185532107\n",
      "Books & Reference : 2.144227513824625\n",
      "Simulation : 2.0426588421171425\n",
      "Dating : 1.8620923146371742\n",
      "Arcade : 1.8508069066696762\n",
      "Video Players & Editors : 1.7718090508971898\n",
      "Casual : 1.749238234962194\n",
      "Maps & Navigation : 1.3993905879697552\n",
      "Food & Drink : 1.2413948764247829\n",
      "Puzzle : 1.1285407967498025\n",
      "Racing : 0.9931159011398263\n",
      "Role Playing : 0.9366888613023362\n",
      "Libraries & Demo : 0.9366888613023362\n",
      "Auto & Vehicles : 0.9254034533348381\n",
      "Strategy : 0.91411804536734\n",
      "House & Home : 0.8238347816273558\n",
      "Weather : 0.8012639656923597\n",
      "Events : 0.7109807019523756\n",
      "Adventure : 0.6771244780498815\n",
      "Comics : 0.6094120302448933\n",
      "Beauty : 0.5981266222773953\n",
      "Art & Design : 0.5868412143098972\n",
      "Parenting : 0.49655795056991314\n",
      "Card : 0.440130910732423\n",
      "Casino : 0.42884550276492495\n",
      "Trivia : 0.4175600947974269\n",
      "Educational;Education : 0.3949892788624309\n",
      "Educational : 0.3724184629274348\n",
      "Board : 0.3724184629274348\n",
      "Education;Education : 0.33856223902494076\n",
      "Word : 0.25956438325245457\n",
      "Casual;Pretend Play : 0.23699356731745852\n",
      "Music : 0.20313734341496445\n",
      "Puzzle;Brain Games : 0.1805665274799684\n",
      "Racing;Action & Adventure : 0.16928111951247038\n",
      "Entertainment;Music & Video : 0.16928111951247038\n",
      "Casual;Brain Games : 0.13542489560997628\n",
      "Casual;Action & Adventure : 0.13542489560997628\n",
      "Arcade;Action & Adventure : 0.12413948764247829\n",
      "Action;Action & Adventure : 0.10156867170748222\n",
      "Educational;Pretend Play : 0.0902832637399842\n",
      "Board;Brain Games : 0.0902832637399842\n",
      "Simulation;Action & Adventure : 0.07899785577248618\n",
      "Parenting;Education : 0.07899785577248618\n",
      "Entertainment;Brain Games : 0.07899785577248618\n",
      "Parenting;Music & Video : 0.06771244780498814\n",
      "Educational;Brain Games : 0.06771244780498814\n",
      "Casual;Creativity : 0.06771244780498814\n",
      "Art & Design;Creativity : 0.06771244780498814\n",
      "Education;Pretend Play : 0.05642703983749013\n",
      "Role Playing;Pretend Play : 0.0451416318699921\n",
      "Education;Creativity : 0.0451416318699921\n",
      "Role Playing;Action & Adventure : 0.03385622390249407\n",
      "Puzzle;Action & Adventure : 0.03385622390249407\n",
      "Entertainment;Creativity : 0.03385622390249407\n",
      "Entertainment;Action & Adventure : 0.03385622390249407\n",
      "Educational;Creativity : 0.03385622390249407\n",
      "Educational;Action & Adventure : 0.03385622390249407\n",
      "Education;Music & Video : 0.03385622390249407\n",
      "Education;Brain Games : 0.03385622390249407\n",
      "Education;Action & Adventure : 0.03385622390249407\n",
      "Adventure;Action & Adventure : 0.03385622390249407\n",
      "Video Players & Editors;Music & Video : 0.02257081593499605\n",
      "Sports;Action & Adventure : 0.02257081593499605\n",
      "Simulation;Pretend Play : 0.02257081593499605\n",
      "Puzzle;Creativity : 0.02257081593499605\n",
      "Music;Music & Video : 0.02257081593499605\n",
      "Entertainment;Pretend Play : 0.02257081593499605\n",
      "Casual;Education : 0.02257081593499605\n",
      "Board;Action & Adventure : 0.02257081593499605\n",
      "Video Players & Editors;Creativity : 0.011285407967498025\n",
      "Trivia;Education : 0.011285407967498025\n",
      "Travel & Local;Action & Adventure : 0.011285407967498025\n",
      "Tools;Education : 0.011285407967498025\n",
      "Strategy;Education : 0.011285407967498025\n",
      "Strategy;Creativity : 0.011285407967498025\n",
      "Strategy;Action & Adventure : 0.011285407967498025\n",
      "Simulation;Education : 0.011285407967498025\n",
      "Role Playing;Brain Games : 0.011285407967498025\n",
      "Racing;Pretend Play : 0.011285407967498025\n",
      "Puzzle;Education : 0.011285407967498025\n",
      "Parenting;Brain Games : 0.011285407967498025\n",
      "Music & Audio;Music & Video : 0.011285407967498025\n",
      "Lifestyle;Pretend Play : 0.011285407967498025\n",
      "Lifestyle;Education : 0.011285407967498025\n",
      "Health & Fitness;Education : 0.011285407967498025\n",
      "Health & Fitness;Action & Adventure : 0.011285407967498025\n",
      "Entertainment;Education : 0.011285407967498025\n",
      "Communication;Creativity : 0.011285407967498025\n",
      "Comics;Creativity : 0.011285407967498025\n",
      "Casual;Music & Video : 0.011285407967498025\n",
      "Card;Brain Games : 0.011285407967498025\n",
      "Card;Action & Adventure : 0.011285407967498025\n",
      "Books & Reference;Education : 0.011285407967498025\n",
      "Art & Design;Pretend Play : 0.011285407967498025\n",
      "Art & Design;Action & Adventure : 0.011285407967498025\n",
      "Arcade;Pretend Play : 0.011285407967498025\n",
      "Adventure;Education : 0.011285407967498025\n",
      "None\n"
     ]
    }
   ],
   "source": [
    "genres_frequency = freq_table(android_final, 9, header = False)\n",
    "print(genres_frequency)\n",
    "genres_display = display_table(android_final, 9)\n",
    "print(genres_display)"
   ]
  },
  {
   "cell_type": "markdown",
   "metadata": {},
   "source": [
    "## Part Three\n",
    "We start by examining the frequency table for the prime_genre column of the App Store data set"
   ]
  },
  {
   "cell_type": "code",
   "execution_count": 20,
   "metadata": {},
   "outputs": [
    {
     "name": "stdout",
     "output_type": "stream",
     "text": [
      "Games : 58.180689226948154\n",
      "Entertainment : 7.885749767153058\n",
      "Photo & Video : 4.967401428127911\n",
      "Education : 3.6634585532443342\n",
      "Social Networking : 3.2598571872089415\n",
      "Shopping : 2.607885749767153\n",
      "Utilities : 2.5147469729897547\n",
      "Sports : 2.1421918658801617\n",
      "Music : 2.049053089102763\n",
      "Health & Fitness : 2.018006830176964\n",
      "Productivity : 1.7385904998447685\n",
      "Lifestyle : 1.5833592052157717\n",
      "News : 1.334989133809376\n",
      "Travel : 1.2418503570319777\n",
      "Finance : 1.11766532132878\n",
      "Weather : 0.8692952499223843\n",
      "Food & Drink : 0.8072027320707855\n",
      "Reference : 0.55883266066439\n",
      "Business : 0.5277864017385905\n",
      "Book : 0.43464762496119214\n",
      "Navigation : 0.18627755355479667\n",
      "Medical : 0.18627755355479667\n",
      "Catalogs : 0.12418503570319776\n"
     ]
    }
   ],
   "source": [
    "display_table(ios_final, -5)"
   ]
  },
  {
   "cell_type": "code",
   "execution_count": 21,
   "metadata": {},
   "outputs": [
    {
     "name": "stdout",
     "output_type": "stream",
     "text": [
      "FAMILY : 18.936914569461685\n",
      "GAME : 9.694165444080802\n",
      "TOOLS : 8.452770567656021\n",
      "BUSINESS : 4.593161042771697\n",
      "LIFESTYLE : 3.9047511567543167\n",
      "PRODUCTIVITY : 3.8934657487868187\n",
      "FINANCE : 3.7016138133393524\n",
      "MEDICAL : 3.521047285859384\n",
      "SPORTS : 3.3969077982169056\n",
      "PERSONALIZATION : 3.317909942444419\n",
      "COMMUNICATION : 3.2389120866719328\n",
      "HEALTH_AND_FITNESS : 3.080916375126961\n",
      "PHOTOGRAPHY : 2.9454914795169844\n",
      "NEWS_AND_MAGAZINES : 2.7987811759395105\n",
      "SOCIAL : 2.663356280329534\n",
      "TRAVEL_AND_LOCAL : 2.3360794492720913\n",
      "SHOPPING : 2.245796185532107\n",
      "BOOKS_AND_REFERENCE : 2.144227513824625\n",
      "DATING : 1.8620923146371742\n",
      "VIDEO_PLAYERS : 1.794379866832186\n",
      "MAPS_AND_NAVIGATION : 1.3993905879697552\n",
      "FOOD_AND_DRINK : 1.2413948764247829\n",
      "EDUCATION : 1.1736824286197944\n",
      "ENTERTAINMENT : 0.9592596772373322\n",
      "LIBRARIES_AND_DEMO : 0.9366888613023362\n",
      "AUTO_AND_VEHICLES : 0.9254034533348381\n",
      "HOUSE_AND_HOME : 0.8238347816273558\n",
      "WEATHER : 0.8012639656923597\n",
      "EVENTS : 0.7109807019523756\n",
      "PARENTING : 0.6545536621148855\n",
      "ART_AND_DESIGN : 0.6319828461798894\n",
      "COMICS : 0.6206974382123914\n",
      "BEAUTY : 0.5981266222773953\n"
     ]
    }
   ],
   "source": [
    "display_table(android_final, 1) "
   ]
  },
  {
   "cell_type": "code",
   "execution_count": 22,
   "metadata": {},
   "outputs": [
    {
     "name": "stdout",
     "output_type": "stream",
     "text": [
      "Tools : 8.441485159688522\n",
      "Entertainment : 6.071549486513937\n",
      "Education : 5.349283376594064\n",
      "Business : 4.593161042771697\n",
      "Productivity : 3.8934657487868187\n",
      "Lifestyle : 3.8934657487868187\n",
      "Finance : 3.7016138133393524\n",
      "Medical : 3.521047285859384\n",
      "Sports : 3.464620246021894\n",
      "Personalization : 3.317909942444419\n",
      "Communication : 3.2389120866719328\n",
      "Action : 3.103487191061957\n",
      "Health & Fitness : 3.080916375126961\n",
      "Photography : 2.9454914795169844\n",
      "News & Magazines : 2.7987811759395105\n",
      "Social : 2.663356280329534\n",
      "Travel & Local : 2.3247940413045933\n",
      "Shopping : 2.245796185532107\n",
      "Books & Reference : 2.144227513824625\n",
      "Simulation : 2.0426588421171425\n",
      "Dating : 1.8620923146371742\n",
      "Arcade : 1.8508069066696762\n",
      "Video Players & Editors : 1.7718090508971898\n",
      "Casual : 1.749238234962194\n",
      "Maps & Navigation : 1.3993905879697552\n",
      "Food & Drink : 1.2413948764247829\n",
      "Puzzle : 1.1285407967498025\n",
      "Racing : 0.9931159011398263\n",
      "Role Playing : 0.9366888613023362\n",
      "Libraries & Demo : 0.9366888613023362\n",
      "Auto & Vehicles : 0.9254034533348381\n",
      "Strategy : 0.91411804536734\n",
      "House & Home : 0.8238347816273558\n",
      "Weather : 0.8012639656923597\n",
      "Events : 0.7109807019523756\n",
      "Adventure : 0.6771244780498815\n",
      "Comics : 0.6094120302448933\n",
      "Beauty : 0.5981266222773953\n",
      "Art & Design : 0.5868412143098972\n",
      "Parenting : 0.49655795056991314\n",
      "Card : 0.440130910732423\n",
      "Casino : 0.42884550276492495\n",
      "Trivia : 0.4175600947974269\n",
      "Educational;Education : 0.3949892788624309\n",
      "Educational : 0.3724184629274348\n",
      "Board : 0.3724184629274348\n",
      "Education;Education : 0.33856223902494076\n",
      "Word : 0.25956438325245457\n",
      "Casual;Pretend Play : 0.23699356731745852\n",
      "Music : 0.20313734341496445\n",
      "Puzzle;Brain Games : 0.1805665274799684\n",
      "Racing;Action & Adventure : 0.16928111951247038\n",
      "Entertainment;Music & Video : 0.16928111951247038\n",
      "Casual;Brain Games : 0.13542489560997628\n",
      "Casual;Action & Adventure : 0.13542489560997628\n",
      "Arcade;Action & Adventure : 0.12413948764247829\n",
      "Action;Action & Adventure : 0.10156867170748222\n",
      "Educational;Pretend Play : 0.0902832637399842\n",
      "Board;Brain Games : 0.0902832637399842\n",
      "Simulation;Action & Adventure : 0.07899785577248618\n",
      "Parenting;Education : 0.07899785577248618\n",
      "Entertainment;Brain Games : 0.07899785577248618\n",
      "Parenting;Music & Video : 0.06771244780498814\n",
      "Educational;Brain Games : 0.06771244780498814\n",
      "Casual;Creativity : 0.06771244780498814\n",
      "Art & Design;Creativity : 0.06771244780498814\n",
      "Education;Pretend Play : 0.05642703983749013\n",
      "Role Playing;Pretend Play : 0.0451416318699921\n",
      "Education;Creativity : 0.0451416318699921\n",
      "Role Playing;Action & Adventure : 0.03385622390249407\n",
      "Puzzle;Action & Adventure : 0.03385622390249407\n",
      "Entertainment;Creativity : 0.03385622390249407\n",
      "Entertainment;Action & Adventure : 0.03385622390249407\n",
      "Educational;Creativity : 0.03385622390249407\n",
      "Educational;Action & Adventure : 0.03385622390249407\n",
      "Education;Music & Video : 0.03385622390249407\n",
      "Education;Brain Games : 0.03385622390249407\n",
      "Education;Action & Adventure : 0.03385622390249407\n",
      "Adventure;Action & Adventure : 0.03385622390249407\n",
      "Video Players & Editors;Music & Video : 0.02257081593499605\n",
      "Sports;Action & Adventure : 0.02257081593499605\n",
      "Simulation;Pretend Play : 0.02257081593499605\n",
      "Puzzle;Creativity : 0.02257081593499605\n",
      "Music;Music & Video : 0.02257081593499605\n",
      "Entertainment;Pretend Play : 0.02257081593499605\n",
      "Casual;Education : 0.02257081593499605\n",
      "Board;Action & Adventure : 0.02257081593499605\n",
      "Video Players & Editors;Creativity : 0.011285407967498025\n",
      "Trivia;Education : 0.011285407967498025\n",
      "Travel & Local;Action & Adventure : 0.011285407967498025\n",
      "Tools;Education : 0.011285407967498025\n",
      "Strategy;Education : 0.011285407967498025\n",
      "Strategy;Creativity : 0.011285407967498025\n",
      "Strategy;Action & Adventure : 0.011285407967498025\n",
      "Simulation;Education : 0.011285407967498025\n",
      "Role Playing;Brain Games : 0.011285407967498025\n",
      "Racing;Pretend Play : 0.011285407967498025\n",
      "Puzzle;Education : 0.011285407967498025\n",
      "Parenting;Brain Games : 0.011285407967498025\n",
      "Music & Audio;Music & Video : 0.011285407967498025\n",
      "Lifestyle;Pretend Play : 0.011285407967498025\n",
      "Lifestyle;Education : 0.011285407967498025\n",
      "Health & Fitness;Education : 0.011285407967498025\n",
      "Health & Fitness;Action & Adventure : 0.011285407967498025\n",
      "Entertainment;Education : 0.011285407967498025\n",
      "Communication;Creativity : 0.011285407967498025\n",
      "Comics;Creativity : 0.011285407967498025\n",
      "Casual;Music & Video : 0.011285407967498025\n",
      "Card;Brain Games : 0.011285407967498025\n",
      "Card;Action & Adventure : 0.011285407967498025\n",
      "Books & Reference;Education : 0.011285407967498025\n",
      "Art & Design;Pretend Play : 0.011285407967498025\n",
      "Art & Design;Action & Adventure : 0.011285407967498025\n",
      "Arcade;Pretend Play : 0.011285407967498025\n",
      "Adventure;Education : 0.011285407967498025\n"
     ]
    }
   ],
   "source": [
    "display_table(android_final, -4)"
   ]
  },
  {
   "cell_type": "code",
   "execution_count": 23,
   "metadata": {},
   "outputs": [
    {
     "name": "stdout",
     "output_type": "stream",
     "text": [
      "Photo & Video : 28441.54375\n",
      "Games : 22788.6696905016\n",
      "Music : 57326.530303030304\n",
      "Social Networking : 71548.34905660378\n",
      "Reference : 74942.11111111111\n",
      "Health & Fitness : 23298.015384615384\n",
      "Weather : 52279.892857142855\n",
      "Utilities : 18684.456790123455\n",
      "Travel : 28243.8\n",
      "Shopping : 26919.690476190477\n",
      "News : 21248.023255813954\n",
      "Navigation : 86090.33333333333\n",
      "Lifestyle : 16485.764705882353\n",
      "Entertainment : 14029.830708661417\n",
      "Food & Drink : 33333.92307692308\n",
      "Sports : 23008.898550724636\n",
      "Book : 39758.5\n",
      "Finance : 31467.944444444445\n",
      "Education : 7003.983050847458\n",
      "Productivity : 21028.410714285714\n",
      "Business : 7491.117647058823\n",
      "Catalogs : 4004.0\n",
      "Medical : 612.0\n"
     ]
    }
   ],
   "source": [
    "genres_ios = freq_table(ios_final, -5)\n",
    "\n",
    "for genre in genres_ios:\n",
    "    total = 0\n",
    "    len_genre = 0\n",
    "    for app in ios_final:\n",
    "        genre_app = app[-5]\n",
    "        if genre_app == genre:\n",
    "            n_ratings = float(app[5])\n",
    "            total += n_ratings\n",
    "            len_genre += 1\n",
    "    avg_n_ratings = total / len_genre\n",
    "    print(genre, \":\" ,avg_n_ratings)\n",
    "        "
   ]
  },
  {
   "cell_type": "code",
   "execution_count": 24,
   "metadata": {},
   "outputs": [
    {
     "name": "stdout",
     "output_type": "stream",
     "text": [
      "Waze - GPS Navigation, Maps & Real-time Traffic : 345046\n",
      "Google Maps - Navigation & Transit : 154911\n",
      "Geocaching® : 12811\n",
      "CoPilot GPS – Car Navigation & Offline Maps : 3582\n",
      "ImmobilienScout24: Real Estate Search in Germany : 187\n",
      "Railway Route Search : 5\n"
     ]
    }
   ],
   "source": [
    "for app in ios_final:\n",
    "    if app[-5] == \"Navigation\":\n",
    "        print(app[1], \":\", app[5])"
   ]
  },
  {
   "cell_type": "code",
   "execution_count": 25,
   "metadata": {},
   "outputs": [
    {
     "name": "stdout",
     "output_type": "stream",
     "text": [
      "Bible : 985920\n",
      "Dictionary.com Dictionary & Thesaurus : 200047\n",
      "Dictionary.com Dictionary & Thesaurus for iPad : 54175\n",
      "Google Translate : 26786\n",
      "Muslim Pro: Ramadan 2017 Prayer Times, Azan, Quran : 18418\n",
      "New Furniture Mods - Pocket Wiki & Game Tools for Minecraft PC Edition : 17588\n",
      "Merriam-Webster Dictionary : 16849\n",
      "Night Sky : 12122\n",
      "City Maps for Minecraft PE - The Best Maps for Minecraft Pocket Edition (MCPE) : 8535\n",
      "LUCKY BLOCK MOD ™ for Minecraft PC Edition - The Best Pocket Wiki & Mods Installer Tools : 4693\n",
      "GUNS MODS for Minecraft PC Edition - Mods Tools : 1497\n",
      "Guides for Pokémon GO - Pokemon GO News and Cheats : 826\n",
      "WWDC : 762\n",
      "Horror Maps for Minecraft PE - Download The Scariest Maps for Minecraft Pocket Edition (MCPE) Free : 718\n",
      "VPN Express : 14\n",
      "Real Bike Traffic Rider Virtual Reality Glasses : 8\n",
      "教えて!goo : 0\n",
      "Jishokun-Japanese English Dictionary & Translator : 0\n"
     ]
    }
   ],
   "source": [
    "for app in ios_final:\n",
    "    if app[-5] == \"Reference\":\n",
    "        print(app[1], \":\" , app[5])"
   ]
  },
  {
   "cell_type": "code",
   "execution_count": 26,
   "metadata": {},
   "outputs": [
    {
     "name": "stdout",
     "output_type": "stream",
     "text": [
      "1,000,000+ : 15.743144114659746\n",
      "100,000+ : 11.556257758717978\n",
      "10,000,000+ : 10.518000225708159\n",
      "10,000+ : 10.190723394650716\n",
      "1,000+ : 8.396343527818532\n",
      "100+ : 6.91795508407629\n",
      "5,000,000+ : 6.838957228303803\n",
      "500,000+ : 5.574991535944025\n",
      "50,000+ : 4.773727570251665\n",
      "5,000+ : 4.51416318699921\n",
      "10+ : 3.5436181017943795\n",
      "500+ : 3.250197494639431\n",
      "50,000,000+ : 2.290937817402099\n",
      "100,000,000+ : 2.1216566978896285\n",
      "50+ : 1.9185193544746644\n",
      "5+ : 0.7899785577248618\n",
      "1+ : 0.5078433585374111\n",
      "500,000,000+ : 0.27084979121995256\n",
      "1,000,000,000+ : 0.22570815934996052\n",
      "0+ : 0.0451416318699921\n",
      "0 : 0.011285407967498025\n"
     ]
    }
   ],
   "source": [
    "display_table(android_final, 5)"
   ]
  },
  {
   "cell_type": "code",
   "execution_count": 27,
   "metadata": {},
   "outputs": [
    {
     "name": "stdout",
     "output_type": "stream",
     "text": [
      "ART_AND_DESIGN : 1986335.0877192982\n",
      "AUTO_AND_VEHICLES : 647317.8170731707\n",
      "BEAUTY : 513151.88679245283\n",
      "BOOKS_AND_REFERENCE : 8767811.894736841\n",
      "BUSINESS : 1712290.1474201474\n",
      "COMICS : 817657.2727272727\n",
      "COMMUNICATION : 38456119.167247385\n",
      "DATING : 854028.8303030303\n",
      "EDUCATION : 1820673.076923077\n",
      "ENTERTAINMENT : 11640705.88235294\n",
      "EVENTS : 253542.22222222222\n",
      "FINANCE : 1387692.475609756\n",
      "FOOD_AND_DRINK : 1924897.7363636363\n",
      "HEALTH_AND_FITNESS : 4188821.9853479853\n",
      "HOUSE_AND_HOME : 1331540.5616438356\n",
      "LIBRARIES_AND_DEMO : 638503.734939759\n",
      "LIFESTYLE : 1437816.2687861272\n",
      "GAME : 15560965.599534342\n",
      "FAMILY : 3694276.334922527\n",
      "MEDICAL : 120616.48717948717\n",
      "SOCIAL : 23253652.127118643\n",
      "SHOPPING : 7036877.311557789\n",
      "PHOTOGRAPHY : 17805627.643678162\n",
      "SPORTS : 3638640.1428571427\n",
      "TRAVEL_AND_LOCAL : 13984077.710144928\n",
      "TOOLS : 10682301.033377837\n",
      "PERSONALIZATION : 5201482.6122448975\n",
      "PRODUCTIVITY : 16787331.344927534\n",
      "PARENTING : 542603.6206896552\n",
      "WEATHER : 5074486.197183099\n",
      "VIDEO_PLAYERS : 24727872.452830188\n",
      "NEWS_AND_MAGAZINES : 9549178.467741935\n",
      "MAPS_AND_NAVIGATION : 4056941.7741935486\n"
     ]
    }
   ],
   "source": [
    "categories_android = freq_table(android_final, 1)\n",
    "\n",
    "for category in categories_android:\n",
    "    total = 0\n",
    "    len_category = 0\n",
    "    for app in android_final:\n",
    "        category_app = app[1]\n",
    "        if category_app == category:\n",
    "            n_installs = app[5]\n",
    "            n_installs = n_installs.replace(\",\", \"\")\n",
    "            n_installs = n_installs.replace(\"+\",\"\")\n",
    "            total += float(n_installs)\n",
    "            len_category += 1\n",
    "    avg_n_installs = total / len_category\n",
    "    print(category, \":\" , avg_n_installs)"
   ]
  },
  {
   "cell_type": "code",
   "execution_count": 28,
   "metadata": {},
   "outputs": [
    {
     "name": "stdout",
     "output_type": "stream",
     "text": [
      "WhatsApp Messenger : 1,000,000,000+\n",
      "imo beta free calls and text : 100,000,000+\n",
      "Android Messages : 100,000,000+\n",
      "Google Duo - High Quality Video Calls : 500,000,000+\n",
      "Messenger – Text and Video Chat for Free : 1,000,000,000+\n",
      "imo free video calls and chat : 500,000,000+\n",
      "Skype - free IM & video calls : 1,000,000,000+\n",
      "Who : 100,000,000+\n",
      "GO SMS Pro - Messenger, Free Themes, Emoji : 100,000,000+\n",
      "LINE: Free Calls & Messages : 500,000,000+\n",
      "Google Chrome: Fast & Secure : 1,000,000,000+\n",
      "Firefox Browser fast & private : 100,000,000+\n",
      "UC Browser - Fast Download Private & Secure : 500,000,000+\n",
      "Gmail : 1,000,000,000+\n",
      "Hangouts : 1,000,000,000+\n",
      "Messenger Lite: Free Calls & Messages : 100,000,000+\n",
      "Kik : 100,000,000+\n",
      "KakaoTalk: Free Calls & Text : 100,000,000+\n",
      "Opera Mini - fast web browser : 100,000,000+\n",
      "Opera Browser: Fast and Secure : 100,000,000+\n",
      "Telegram : 100,000,000+\n",
      "Truecaller: Caller ID, SMS spam blocking & Dialer : 100,000,000+\n",
      "UC Browser Mini -Tiny Fast Private & Secure : 100,000,000+\n",
      "Viber Messenger : 500,000,000+\n",
      "WeChat : 100,000,000+\n",
      "Yahoo Mail – Stay Organized : 100,000,000+\n",
      "BBM - Free Calls & Messages : 100,000,000+\n"
     ]
    }
   ],
   "source": [
    "for app in android_final:\n",
    "    if app[1] == \"COMMUNICATION\" and (app[5] == \"1,000,000,000+\" or\n",
    "                                    app[5] == \"500,000,000+\" \n",
    "                                    or app[5] == \"100,000,000+\"):\n",
    "          print(app[0],\":\", app[5])"
   ]
  },
  {
   "cell_type": "code",
   "execution_count": 29,
   "metadata": {},
   "outputs": [
    {
     "data": {
      "text/plain": [
       "3603485.3884615386"
      ]
     },
     "execution_count": 29,
     "metadata": {},
     "output_type": "execute_result"
    }
   ],
   "source": [
    "under_100_m = []\n",
    "\n",
    "for app in android_final:\n",
    "    n_installs = app[5]\n",
    "    n_installs = n_installs.replace(\",\" ,\"\")\n",
    "    n_installs = n_installs.replace(\"+\" , \"\")\n",
    "    if (app[1] == \"COMMUNICATION\") and (float(n_installs)<100000000):\n",
    "        under_100_m.append(float(n_installs))\n",
    "sum(under_100_m) / len(under_100_m)"
   ]
  },
  {
   "cell_type": "code",
   "execution_count": 30,
   "metadata": {},
   "outputs": [
    {
     "name": "stdout",
     "output_type": "stream",
     "text": [
      "E-Book Read - Read Book for free : 50,000+\n",
      "Download free book with green book : 100,000+\n",
      "Wikipedia : 10,000,000+\n",
      "Cool Reader : 10,000,000+\n",
      "Free Panda Radio Music : 100,000+\n",
      "Book store : 1,000,000+\n",
      "FBReader: Favorite Book Reader : 10,000,000+\n",
      "English Grammar Complete Handbook : 500,000+\n",
      "Free Books - Spirit Fanfiction and Stories : 1,000,000+\n",
      "Google Play Books : 1,000,000,000+\n",
      "AlReader -any text book reader : 5,000,000+\n",
      "Offline English Dictionary : 100,000+\n",
      "Offline: English to Tagalog Dictionary : 500,000+\n",
      "FamilySearch Tree : 1,000,000+\n",
      "Cloud of Books : 1,000,000+\n",
      "Recipes of Prophetic Medicine for free : 500,000+\n",
      "ReadEra – free ebook reader : 1,000,000+\n",
      "Anonymous caller detection : 10,000+\n",
      "Ebook Reader : 5,000,000+\n",
      "Litnet - E-books : 100,000+\n",
      "Read books online : 5,000,000+\n",
      "English to Urdu Dictionary : 500,000+\n",
      "eBoox: book reader fb2 epub zip : 1,000,000+\n",
      "English Persian Dictionary : 500,000+\n",
      "Flybook : 500,000+\n",
      "All Maths Formulas : 1,000,000+\n",
      "Ancestry : 5,000,000+\n",
      "HTC Help : 10,000,000+\n",
      "English translation from Bengali : 100,000+\n",
      "Pdf Book Download - Read Pdf Book : 100,000+\n",
      "Free Book Reader : 100,000+\n",
      "eBoox new: Reader for fb2 epub zip books : 50,000+\n",
      "Only 30 days in English, the guideline is guaranteed : 500,000+\n",
      "Moon+ Reader : 10,000,000+\n",
      "SH-02J Owner's Manual (Android 8.0) : 50,000+\n",
      "English-Myanmar Dictionary : 1,000,000+\n",
      "Golden Dictionary (EN-AR) : 1,000,000+\n",
      "All Language Translator Free : 1,000,000+\n",
      "Azpen eReader : 500,000+\n",
      "URBANO V 02 instruction manual : 100,000+\n",
      "Bible : 100,000,000+\n",
      "C Programs and Reference : 50,000+\n",
      "C Offline Tutorial : 1,000+\n",
      "C Programs Handbook : 50,000+\n",
      "Amazon Kindle : 100,000,000+\n",
      "Aab e Hayat Full Novel : 100,000+\n",
      "Aldiko Book Reader : 10,000,000+\n",
      "Google I/O 2018 : 500,000+\n",
      "R Language Reference Guide : 10,000+\n",
      "Learn R Programming Full : 5,000+\n",
      "R Programing Offline Tutorial : 1,000+\n",
      "Guide for R Programming : 5+\n",
      "Learn R Programming : 10+\n",
      "R Quick Reference Big Data : 1,000+\n",
      "V Made : 100,000+\n",
      "Wattpad 📖 Free Books : 100,000,000+\n",
      "Dictionary - WordWeb : 5,000,000+\n",
      "Guide (for X-MEN) : 100,000+\n",
      "AC Air condition Troubleshoot,Repair,Maintenance : 5,000+\n",
      "AE Bulletins : 1,000+\n",
      "Ae Allah na Dai (Rasa) : 10,000+\n",
      "50000 Free eBooks & Free AudioBooks : 5,000,000+\n",
      "Ag PhD Field Guide : 10,000+\n",
      "Ag PhD Deficiencies : 10,000+\n",
      "Ag PhD Planting Population Calculator : 1,000+\n",
      "Ag PhD Soybean Diseases : 1,000+\n",
      "Fertilizer Removal By Crop : 50,000+\n",
      "A-J Media Vault : 50+\n",
      "Al-Quran (Free) : 10,000,000+\n",
      "Al Quran (Tafsir & by Word) : 500,000+\n",
      "Al Quran Indonesia : 10,000,000+\n",
      "Al'Quran Bahasa Indonesia : 10,000,000+\n",
      "Al Quran Al karim : 1,000,000+\n",
      "Al-Muhaffiz : 50,000+\n",
      "Al Quran : EAlim - Translations & MP3 Offline : 5,000,000+\n",
      "Al-Quran 30 Juz free copies : 500,000+\n",
      "Koran Read &MP3 30 Juz Offline : 1,000,000+\n",
      "Hafizi Quran 15 lines per page : 1,000,000+\n",
      "Quran for Android : 10,000,000+\n",
      "Surah Al-Waqiah : 100,000+\n",
      "Hisnul Al Muslim - Hisn Invocations & Adhkaar : 100,000+\n",
      "Satellite AR : 1,000,000+\n",
      "Audiobooks from Audible : 100,000,000+\n",
      "Kinot & Eichah for Tisha B'Av : 10,000+\n",
      "AW Tozer Devotionals - Daily : 5,000+\n",
      "Tozer Devotional -Series 1 : 1,000+\n",
      "The Pursuit of God : 1,000+\n",
      "AY Sing : 5,000+\n",
      "Ay Hasnain k Nana Milad Naat : 10,000+\n",
      "Ay Mohabbat Teri Khatir Novel : 10,000+\n",
      "Arizona Statutes, ARS (AZ Law) : 1,000+\n",
      "Oxford A-Z of English Usage : 1,000,000+\n",
      "BD Fishpedia : 1,000+\n",
      "BD All Sim Offer : 10,000+\n",
      "Youboox - Livres, BD et magazines : 500,000+\n",
      "B&H Kids AR : 10,000+\n",
      "B y H Niños ES : 5,000+\n",
      "Dictionary.com: Find Definitions for English Words : 10,000,000+\n",
      "English Dictionary - Offline : 10,000,000+\n",
      "Bible KJV : 5,000,000+\n",
      "Borneo Bible, BM Bible : 10,000+\n",
      "MOD Black for BM : 100+\n",
      "BM Box : 1,000+\n",
      "Anime Mod for BM : 100+\n",
      "NOOK: Read eBooks & Magazines : 10,000,000+\n",
      "NOOK Audiobooks : 500,000+\n",
      "NOOK App for NOOK Devices : 500,000+\n",
      "Browsery by Barnes & Noble : 5,000+\n",
      "bp e-store : 1,000+\n",
      "Brilliant Quotes: Life, Love, Family & Motivation : 1,000,000+\n",
      "BR Ambedkar Biography & Quotes : 10,000+\n",
      "BU Alsace : 100+\n",
      "Catholic La Bu Zo Kam : 500+\n",
      "Khrifa Hla Bu (Solfa) : 10+\n",
      "Kristian Hla Bu : 10,000+\n",
      "SA HLA BU : 1,000+\n",
      "Learn SAP BW : 500+\n",
      "Learn SAP BW on HANA : 500+\n",
      "CA Laws 2018 (California Laws and Codes) : 5,000+\n",
      "Bootable Methods(USB-CD-DVD) : 10,000+\n",
      "cloudLibrary : 100,000+\n",
      "SDA Collegiate Quarterly : 500+\n",
      "Sabbath School : 100,000+\n",
      "Cypress College Library : 100+\n",
      "Stats Royale for Clash Royale : 1,000,000+\n",
      "GATE 21 years CS Papers(2011-2018 Solved) : 50+\n",
      "Learn CT Scan Of Head : 5,000+\n",
      "Easy Cv maker 2018 : 10,000+\n",
      "How to Write CV : 100,000+\n",
      "CW Nuclear : 1,000+\n",
      "CY Spray nozzle : 10+\n",
      "BibleRead En Cy Zh Yue : 5+\n",
      "CZ-Help : 5+\n",
      "Modlitební knížka CZ : 500+\n",
      "Guide for DB Xenoverse : 10,000+\n",
      "Guide for DB Xenoverse 2 : 10,000+\n",
      "Guide for IMS DB : 10+\n",
      "DC HSEMA : 5,000+\n",
      "DC Public Library : 1,000+\n",
      "Painting Lulu DC Super Friends : 1,000+\n",
      "Dictionary : 10,000,000+\n",
      "Fix Error Google Playstore : 1,000+\n",
      "D. H. Lawrence Poems FREE : 1,000+\n",
      "Bilingual Dictionary Audio App : 5,000+\n",
      "DM Screen : 10,000+\n",
      "wikiHow: how to do anything : 1,000,000+\n",
      "Dr. Doug's Tips : 1,000+\n",
      "Bible du Semeur-BDS (French) : 50,000+\n",
      "La citadelle du musulman : 50,000+\n",
      "DV 2019 Entry Guide : 10,000+\n",
      "DV 2019 - EDV Photo & Form : 50,000+\n",
      "DV 2018 Winners Guide : 1,000+\n",
      "EB Annual Meetings : 1,000+\n",
      "EC - AP & Telangana : 5,000+\n",
      "TN Patta Citta & EC : 10,000+\n",
      "AP Stamps and Registration : 10,000+\n",
      "CompactiMa EC pH Calibration : 100+\n",
      "EGW Writings 2 : 100,000+\n",
      "EGW Writings : 1,000,000+\n",
      "Bible with EGW Comments : 100,000+\n",
      "My Little Pony AR Guide : 1,000,000+\n",
      "SDA Sabbath School Quarterly : 500,000+\n",
      "Duaa Ek Ibaadat : 5,000+\n",
      "Spanish English Translator : 10,000,000+\n",
      "Dictionary - Merriam-Webster : 10,000,000+\n",
      "JW Library : 10,000,000+\n",
      "Oxford Dictionary of English : Free : 10,000,000+\n",
      "English Hindi Dictionary : 10,000,000+\n",
      "English to Hindi Dictionary : 5,000,000+\n",
      "EP Research Service : 1,000+\n",
      "Hymnes et Louanges : 100,000+\n",
      "EU Charter : 1,000+\n",
      "EU Data Protection : 1,000+\n",
      "EU IP Codes : 100+\n",
      "EW PDF : 5+\n",
      "BakaReader EX : 100,000+\n",
      "EZ Quran : 50,000+\n",
      "FA Part 1 & 2 Past Papers Solved Free – Offline : 5,000+\n",
      "La Fe de Jesus : 1,000+\n",
      "La Fe de Jesús : 500+\n",
      "Le Fe de Jesus : 500+\n",
      "Florida - Pocket Brainbook : 1,000+\n",
      "Florida Statutes (FL Code) : 1,000+\n",
      "English To Shona Dictionary : 10,000+\n",
      "Greek Bible FP (Audio) : 1,000+\n",
      "Golden Dictionary (FR-AR) : 500,000+\n",
      "Fanfic-FR : 5,000+\n",
      "Bulgarian French Dictionary Fr : 10,000+\n",
      "Chemin (fr) : 1,000+\n",
      "The SCP Foundation DB fr nn5n : 1,000+\n"
     ]
    }
   ],
   "source": [
    "for app in android_final:\n",
    "    if app[1] == \"BOOKS_AND_REFERENCE\":\n",
    "        print(app[0], \":\", app[5])"
   ]
  },
  {
   "cell_type": "code",
   "execution_count": 32,
   "metadata": {},
   "outputs": [
    {
     "name": "stdout",
     "output_type": "stream",
     "text": [
      "Google Play Books : 1,000,000,000+\n",
      "Bible : 100,000,000+\n",
      "Amazon Kindle : 100,000,000+\n",
      "Wattpad 📖 Free Books : 100,000,000+\n",
      "Audiobooks from Audible : 100,000,000+\n"
     ]
    }
   ],
   "source": [
    "for app in android_final:\n",
    "    if app[1] == \"BOOKS_AND_REFERENCE\" and (app[5] == \"1,000,000,000+\"\n",
    "                                           or app[5] == \"500,000,000+\"\n",
    "                                           or app[5] == \"100,000,000+\"):\n",
    "        print(app[0], \":\", app[5])"
   ]
  },
  {
   "cell_type": "code",
   "execution_count": 33,
   "metadata": {},
   "outputs": [
    {
     "name": "stdout",
     "output_type": "stream",
     "text": [
      "Wikipedia : 10,000,000+\n",
      "Cool Reader : 10,000,000+\n",
      "Book store : 1,000,000+\n",
      "FBReader: Favorite Book Reader : 10,000,000+\n",
      "Free Books - Spirit Fanfiction and Stories : 1,000,000+\n",
      "AlReader -any text book reader : 5,000,000+\n",
      "FamilySearch Tree : 1,000,000+\n",
      "Cloud of Books : 1,000,000+\n",
      "ReadEra – free ebook reader : 1,000,000+\n",
      "Ebook Reader : 5,000,000+\n",
      "Read books online : 5,000,000+\n",
      "eBoox: book reader fb2 epub zip : 1,000,000+\n",
      "All Maths Formulas : 1,000,000+\n",
      "Ancestry : 5,000,000+\n",
      "HTC Help : 10,000,000+\n",
      "Moon+ Reader : 10,000,000+\n",
      "English-Myanmar Dictionary : 1,000,000+\n",
      "Golden Dictionary (EN-AR) : 1,000,000+\n",
      "All Language Translator Free : 1,000,000+\n",
      "Aldiko Book Reader : 10,000,000+\n",
      "Dictionary - WordWeb : 5,000,000+\n",
      "50000 Free eBooks & Free AudioBooks : 5,000,000+\n",
      "Al-Quran (Free) : 10,000,000+\n",
      "Al Quran Indonesia : 10,000,000+\n",
      "Al'Quran Bahasa Indonesia : 10,000,000+\n",
      "Al Quran Al karim : 1,000,000+\n",
      "Al Quran : EAlim - Translations & MP3 Offline : 5,000,000+\n",
      "Koran Read &MP3 30 Juz Offline : 1,000,000+\n",
      "Hafizi Quran 15 lines per page : 1,000,000+\n",
      "Quran for Android : 10,000,000+\n",
      "Satellite AR : 1,000,000+\n",
      "Oxford A-Z of English Usage : 1,000,000+\n",
      "Dictionary.com: Find Definitions for English Words : 10,000,000+\n",
      "English Dictionary - Offline : 10,000,000+\n",
      "Bible KJV : 5,000,000+\n",
      "NOOK: Read eBooks & Magazines : 10,000,000+\n",
      "Brilliant Quotes: Life, Love, Family & Motivation : 1,000,000+\n",
      "Stats Royale for Clash Royale : 1,000,000+\n",
      "Dictionary : 10,000,000+\n",
      "wikiHow: how to do anything : 1,000,000+\n",
      "EGW Writings : 1,000,000+\n",
      "My Little Pony AR Guide : 1,000,000+\n",
      "Spanish English Translator : 10,000,000+\n",
      "Dictionary - Merriam-Webster : 10,000,000+\n",
      "JW Library : 10,000,000+\n",
      "Oxford Dictionary of English : Free : 10,000,000+\n",
      "English Hindi Dictionary : 10,000,000+\n",
      "English to Hindi Dictionary : 5,000,000+\n"
     ]
    }
   ],
   "source": [
    "for app in android_final:\n",
    "    if app[1] == \"BOOKS_AND_REFERENCE\" and (app[5] == \"1,000,000+\"\n",
    "                                           or app[5] == \"5,000,000+\"\n",
    "                                           or app[5] == \"10,000,000+\"\n",
    "                                           or app[5] == \"50,000,000+\"):\n",
    "        print(app[0], \":\" ,app[5])"
   ]
  },
  {
   "cell_type": "markdown",
   "metadata": {},
   "source": [
    "## Conclusions\n",
    "In this project, we analyzed data about the App Store and Google Play mobile apps with the goal of recommending an app profile that can be profitable for both markets.\n",
    "\n",
    "We concluded that taking a popular book (perhaps a more recent book) and turning it into an app could be profitable for both the Google Play and the App Store markets. The markets are already full of libraies, so we need to add some special features besides the raw version of the book. this might include daily quotes from the book, a forum where people can discuss the book,etc"
   ]
  },
  {
   "cell_type": "code",
   "execution_count": null,
   "metadata": {},
   "outputs": [],
   "source": []
  }
 ],
 "metadata": {
  "kernelspec": {
   "display_name": "Python 3",
   "language": "python",
   "name": "python3"
  },
  "language_info": {
   "codemirror_mode": {
    "name": "ipython",
    "version": 3
   },
   "file_extension": ".py",
   "mimetype": "text/x-python",
   "name": "python",
   "nbconvert_exporter": "python",
   "pygments_lexer": "ipython3",
   "version": "3.7.1"
  }
 },
 "nbformat": 4,
 "nbformat_minor": 2
}
